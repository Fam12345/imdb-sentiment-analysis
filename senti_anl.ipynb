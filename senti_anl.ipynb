{
 "cells": [
  {
   "cell_type": "code",
   "execution_count": 4,
   "id": "862e576f-30b1-49e2-be34-2044642c06f6",
   "metadata": {},
   "outputs": [],
   "source": [
    "import pandas as pd\n",
    "import numpy as np\n",
    "import re\n",
    "import nltk\n",
    "from nltk.tokenize import word_tokenize\n",
    "from nltk.corpus import stopwords\n",
    "from nltk.stem import WordNetLemmatizer\n",
    "from sklearn.model_selection import train_test_split\n",
    "from sklearn.metrics import classification_report, confusion_matrix\n",
    "from tensorflow.keras.preprocessing.text import Tokenizer\n",
    "from tensorflow.keras.preprocessing.sequence import pad_sequences\n",
    "from tensorflow.keras.models import Sequential\n",
    "from tensorflow.keras.layers import Embedding, LSTM, Dense, Dropout\n",
    "import matplotlib.pyplot as plt\n",
    "import seaborn as sns"
   ]
  },
  {
   "cell_type": "code",
   "execution_count": 6,
   "id": "e4eadd01-d689-49bd-a560-511efc168e20",
   "metadata": {},
   "outputs": [],
   "source": [
    "df=pd.read_csv('data.csv')"
   ]
  },
  {
   "cell_type": "code",
   "execution_count": 7,
   "id": "3c6fd9dd-411b-43ac-914e-25574f3a9a42",
   "metadata": {},
   "outputs": [
    {
     "data": {
      "text/html": [
       "<div>\n",
       "<style scoped>\n",
       "    .dataframe tbody tr th:only-of-type {\n",
       "        vertical-align: middle;\n",
       "    }\n",
       "\n",
       "    .dataframe tbody tr th {\n",
       "        vertical-align: top;\n",
       "    }\n",
       "\n",
       "    .dataframe thead th {\n",
       "        text-align: right;\n",
       "    }\n",
       "</style>\n",
       "<table border=\"1\" class=\"dataframe\">\n",
       "  <thead>\n",
       "    <tr style=\"text-align: right;\">\n",
       "      <th></th>\n",
       "      <th>review</th>\n",
       "      <th>sentiment</th>\n",
       "    </tr>\n",
       "  </thead>\n",
       "  <tbody>\n",
       "    <tr>\n",
       "      <th>0</th>\n",
       "      <td>One of the other reviewers has mentioned that ...</td>\n",
       "      <td>positive</td>\n",
       "    </tr>\n",
       "    <tr>\n",
       "      <th>1</th>\n",
       "      <td>A wonderful little production. &lt;br /&gt;&lt;br /&gt;The...</td>\n",
       "      <td>positive</td>\n",
       "    </tr>\n",
       "    <tr>\n",
       "      <th>2</th>\n",
       "      <td>I thought this was a wonderful way to spend ti...</td>\n",
       "      <td>positive</td>\n",
       "    </tr>\n",
       "    <tr>\n",
       "      <th>3</th>\n",
       "      <td>Basically there's a family where a little boy ...</td>\n",
       "      <td>negative</td>\n",
       "    </tr>\n",
       "    <tr>\n",
       "      <th>4</th>\n",
       "      <td>Petter Mattei's \"Love in the Time of Money\" is...</td>\n",
       "      <td>positive</td>\n",
       "    </tr>\n",
       "    <tr>\n",
       "      <th>5</th>\n",
       "      <td>Probably my all-time favorite movie, a story o...</td>\n",
       "      <td>positive</td>\n",
       "    </tr>\n",
       "    <tr>\n",
       "      <th>6</th>\n",
       "      <td>I sure would like to see a resurrection of a u...</td>\n",
       "      <td>positive</td>\n",
       "    </tr>\n",
       "    <tr>\n",
       "      <th>7</th>\n",
       "      <td>This show was an amazing, fresh &amp; innovative i...</td>\n",
       "      <td>negative</td>\n",
       "    </tr>\n",
       "    <tr>\n",
       "      <th>8</th>\n",
       "      <td>Encouraged by the positive comments about this...</td>\n",
       "      <td>negative</td>\n",
       "    </tr>\n",
       "    <tr>\n",
       "      <th>9</th>\n",
       "      <td>If you like original gut wrenching laughter yo...</td>\n",
       "      <td>positive</td>\n",
       "    </tr>\n",
       "  </tbody>\n",
       "</table>\n",
       "</div>"
      ],
      "text/plain": [
       "                                              review sentiment\n",
       "0  One of the other reviewers has mentioned that ...  positive\n",
       "1  A wonderful little production. <br /><br />The...  positive\n",
       "2  I thought this was a wonderful way to spend ti...  positive\n",
       "3  Basically there's a family where a little boy ...  negative\n",
       "4  Petter Mattei's \"Love in the Time of Money\" is...  positive\n",
       "5  Probably my all-time favorite movie, a story o...  positive\n",
       "6  I sure would like to see a resurrection of a u...  positive\n",
       "7  This show was an amazing, fresh & innovative i...  negative\n",
       "8  Encouraged by the positive comments about this...  negative\n",
       "9  If you like original gut wrenching laughter yo...  positive"
      ]
     },
     "execution_count": 7,
     "metadata": {},
     "output_type": "execute_result"
    }
   ],
   "source": [
    "df.head(10)"
   ]
  },
  {
   "cell_type": "code",
   "execution_count": 8,
   "id": "3e5f8415-e351-4692-92c8-3379d96c81d0",
   "metadata": {},
   "outputs": [
    {
     "name": "stdout",
     "output_type": "stream",
     "text": [
      "\n",
      "Dataset Info:\n",
      "<class 'pandas.core.frame.DataFrame'>\n",
      "RangeIndex: 50000 entries, 0 to 49999\n",
      "Data columns (total 2 columns):\n",
      " #   Column     Non-Null Count  Dtype \n",
      "---  ------     --------------  ----- \n",
      " 0   review     50000 non-null  object\n",
      " 1   sentiment  50000 non-null  object\n",
      "dtypes: object(2)\n",
      "memory usage: 781.4+ KB\n",
      "None\n",
      "\n",
      "First 5 Rows:\n",
      "                                              review sentiment\n",
      "0  One of the other reviewers has mentioned that ...  positive\n",
      "1  A wonderful little production. <br /><br />The...  positive\n",
      "2  I thought this was a wonderful way to spend ti...  positive\n",
      "3  Basically there's a family where a little boy ...  negative\n",
      "4  Petter Mattei's \"Love in the Time of Money\" is...  positive\n",
      "\n",
      "Column Names:\n",
      "['review', 'sentiment']\n"
     ]
    }
   ],
   "source": [
    "# Display basic info\n",
    "print(\"\\nDataset Info:\")\n",
    "print(df.info())\n",
    "print(\"\\nFirst 5 Rows:\")\n",
    "print(df.head())\n",
    "print(\"\\nColumn Names:\")\n",
    "print(df.columns.tolist())\n"
   ]
  },
  {
   "cell_type": "code",
   "execution_count": 9,
   "id": "1b43c364-8391-4c7b-924f-6d28294becec",
   "metadata": {},
   "outputs": [
    {
     "name": "stdout",
     "output_type": "stream",
     "text": [
      "\n",
      "Sentiment Distribution:\n",
      "sentiment\n",
      "positive    25000\n",
      "negative    25000\n",
      "Name: count, dtype: int64\n"
     ]
    }
   ],
   "source": [
    "# Check sentiment distribution\n",
    "print(\"\\nSentiment Distribution:\")\n",
    "try:\n",
    "    print(df['sentiment'].value_counts())\n",
    "except KeyError:\n",
    "    print(\"Error: 'sentiment' column not found.\")\n",
    "    print(\"Available columns:\", df.columns.tolist())\n",
    "    print(\"Please update the code to use the correct column name for sentiment (e.g., 'label').\")"
   ]
  },
  {
   "cell_type": "code",
   "execution_count": 10,
   "id": "efed9feb-f66a-4248-8a65-74fa0cd96c8a",
   "metadata": {},
   "outputs": [
    {
     "name": "stdout",
     "output_type": "stream",
     "text": [
      "\n",
      "Missing Values:\n",
      "review       0\n",
      "sentiment    0\n",
      "dtype: int64\n"
     ]
    }
   ],
   "source": [
    "# Check for missing values\n",
    "print(\"\\nMissing Values:\")\n",
    "print(df.isnull().sum())"
   ]
  },
  {
   "cell_type": "code",
   "execution_count": 11,
   "id": "f3cd29f1-b4f6-45d5-a8a4-2dc7017a766d",
   "metadata": {},
   "outputs": [
    {
     "name": "stdout",
     "output_type": "stream",
     "text": [
      "\n",
      "Review Length Statistics:\n",
      "count    50000.000000\n",
      "mean       231.156940\n",
      "std        171.343997\n",
      "min          4.000000\n",
      "25%        126.000000\n",
      "50%        173.000000\n",
      "75%        280.000000\n",
      "max       2470.000000\n",
      "Name: review_length, dtype: float64\n"
     ]
    }
   ],
   "source": [
    "# Basic statistics for text length (to understand review lengths)\n",
    "print(\"\\nReview Length Statistics:\")\n",
    "df['review_length'] = df['review'].apply(lambda x: len(str(x).split()) if isinstance(x, str) else 0)\n",
    "print(df['review_length'].describe())"
   ]
  },
  {
   "cell_type": "code",
   "execution_count": 14,
   "id": "a5886969-9303-4ed0-b6ef-060ae0491353",
   "metadata": {},
   "outputs": [
    {
     "name": "stdout",
     "output_type": "stream",
     "text": [
      "Processing data...\n",
      "\n",
      "Sentiment Distribution:\n",
      "sentiment\n",
      "1    25000\n",
      "0    25000\n",
      "Name: count, dtype: int64\n",
      "\n",
      "Sample Raw vs. Cleaned:\n",
      "                                              review  \\\n",
      "0  One of the other reviewers has mentioned that ...   \n",
      "1  A wonderful little production. <br /><br />The...   \n",
      "2  I thought this was a wonderful way to spend ti...   \n",
      "3  Basically there's a family where a little boy ...   \n",
      "4  Petter Mattei's \"Love in the Time of Money\" is...   \n",
      "\n",
      "                                      cleaned_review  \n",
      "0  one reviewer mentioned watching oz episode you...  \n",
      "1  wonderful little production filming technique ...  \n",
      "2  thought wonderful way spend time hot summer we...  \n",
      "3  basically there family little boy jake think t...  \n",
      "4  petter matteis love time money visually stunni...  \n",
      "\n",
      "Empty Cleaned Reviews: 0\n",
      "Sample saved to 'cleaned_sample.csv'\n"
     ]
    }
   ],
   "source": [
    "# Download NLTK data\n",
    "nltk.download('punkt', quiet=True)\n",
    "nltk.download('punkt_tab', quiet=True)  # Added for tokenizer\n",
    "nltk.download('stopwords', quiet=True)\n",
    "nltk.download('wordnet', quiet=True)\n",
    "\n",
    "# Convert sentiment to binary (1=positive, 0=negative)\n",
    "def convert_sentiment(label):\n",
    "    return 1 if str(label).lower() in ['positive', 'pos', '1'] else 0\n",
    "\n",
    "# Clean review text\n",
    "stop_words = set(stopwords.words('english'))\n",
    "lemmatizer = WordNetLemmatizer()\n",
    "\n",
    "def clean_text(text):\n",
    "    text = str(text).lower()\n",
    "    text = re.sub(r'<.*?>|[^a-z\\s]', '', text)\n",
    "    tokens = [lemmatizer.lemmatize(w) for w in word_tokenize(text) if w not in stop_words]\n",
    "    return ' '.join(tokens)\n",
    "\n",
    "# Process data\n",
    "print(\"Processing data...\")\n",
    "df['sentiment'] = df['sentiment'].apply(convert_sentiment)\n",
    "df['cleaned_review'] = df['review'].apply(clean_text)\n",
    "\n",
    "# Check results\n",
    "print(\"\\nSentiment Distribution:\")\n",
    "print(df['sentiment'].value_counts())\n",
    "print(\"\\nSample Raw vs. Cleaned:\")\n",
    "print(df[['review', 'cleaned_review']].head())\n",
    "print(f\"\\nEmpty Cleaned Reviews: {(df['cleaned_review'] == '').sum()}\")\n",
    "\n",
    "# Save sample\n",
    "df[['review', 'cleaned_review', 'sentiment']].head(5).to_csv('cleaned_sample.csv', index=False)\n",
    "print(\"Sample saved to 'cleaned_sample.csv'\")"
   ]
  },
  {
   "cell_type": "code",
   "execution_count": 15,
   "id": "107dd6df-17cd-42c1-b04d-bd46e0bde56f",
   "metadata": {},
   "outputs": [
    {
     "name": "stdout",
     "output_type": "stream",
     "text": [
      "Full cleaned dataset saved to 'cleaned_imdb_reviews.csv'\n",
      "Training set shape: (40000, 200) (40000,)\n",
      "Test set shape: (10000, 200) (10000,)\n",
      "Training label distribution: {1: 20000, 0: 20000}\n",
      "Test label distribution: {0: 5000, 1: 5000}\n"
     ]
    }
   ],
   "source": [
    "# Save full cleaned dataset\n",
    "df.to_csv('cleaned_imdb_reviews.csv', index=False)\n",
    "print(\"Full cleaned dataset saved to 'cleaned_imdb_reviews.csv'\")\n",
    "\n",
    "# Preprocessing parameters\n",
    "max_features = 10000  # Vocabulary size\n",
    "maxlen = 200  # Max review length\n",
    "\n",
    "# Tokenize and convert to sequences\n",
    "tokenizer = Tokenizer(num_words=max_features)\n",
    "tokenizer.fit_on_texts(df['cleaned_review'])\n",
    "sequences = tokenizer.texts_to_sequences(df['cleaned_review'])\n",
    "\n",
    "# Pad sequences\n",
    "X = pad_sequences(sequences, maxlen=maxlen)\n",
    "y = df['sentiment'].values\n",
    "\n",
    "# Train/test split\n",
    "if 'split' in df.columns:\n",
    "    X_train = X[df['split'] == 'train']\n",
    "    X_test = X[df['split'] == 'test']\n",
    "    y_train = y[df['split'] == 'train']\n",
    "    y_test = y[df['split'] == 'test']\n",
    "else:\n",
    "    X_train, X_test, y_train, y_test = train_test_split(X, y, test_size=0.2, stratify=y, random_state=42)\n",
    "\n",
    "# Check shapes\n",
    "print(\"Training set shape:\", X_train.shape, y_train.shape)\n",
    "print(\"Test set shape:\", X_test.shape, y_test.shape)\n",
    "print(\"Training label distribution:\", pd.Series(y_train).value_counts().to_dict())\n",
    "print(\"Test label distribution:\", pd.Series(y_test).value_counts().to_dict())"
   ]
  },
  {
   "cell_type": "code",
   "execution_count": 17,
   "id": "00b389df-6908-47f3-a94c-fd20d0ecacc9",
   "metadata": {},
   "outputs": [],
   "source": [
    "from tensorflow.keras.models import Sequential\n",
    "from tensorflow.keras.layers import Embedding, LSTM, Dense, Dropout\n",
    "from tensorflow.keras.optimizers import Adam"
   ]
  },
  {
   "cell_type": "code",
   "execution_count": 18,
   "id": "2c578922-8e69-40da-a890-6d238945069f",
   "metadata": {},
   "outputs": [
    {
     "name": "stdout",
     "output_type": "stream",
     "text": [
      "Training model...\n",
      "Epoch 1/3\n",
      "\u001b[1m500/500\u001b[0m \u001b[32m━━━━━━━━━━━━━━━━━━━━\u001b[0m\u001b[37m\u001b[0m \u001b[1m57s\u001b[0m 112ms/step - accuracy: 0.7641 - loss: 0.4803 - val_accuracy: 0.8763 - val_loss: 0.3206\n",
      "Epoch 2/3\n",
      "\u001b[1m500/500\u001b[0m \u001b[32m━━━━━━━━━━━━━━━━━━━━\u001b[0m\u001b[37m\u001b[0m \u001b[1m49s\u001b[0m 98ms/step - accuracy: 0.9137 - loss: 0.2346 - val_accuracy: 0.8816 - val_loss: 0.3098\n",
      "Epoch 3/3\n",
      "\u001b[1m500/500\u001b[0m \u001b[32m━━━━━━━━━━━━━━━━━━━━\u001b[0m\u001b[37m\u001b[0m \u001b[1m51s\u001b[0m 102ms/step - accuracy: 0.9400 - loss: 0.1638 - val_accuracy: 0.8763 - val_loss: 0.3306\n",
      "\n",
      "Evaluating model...\n",
      "Test Accuracy: 0.8776\n",
      "\n",
      "Sample Predictions (0=neg, 1=pos):\n",
      "[0 0 1 0 0]\n",
      "Actual Labels: [0 0 1 0 0]\n"
     ]
    }
   ],
   "source": [
    "# Build model\n",
    "model = Sequential([\n",
    "    Embedding(10000, 128),  # Removed input_length\n",
    "    LSTM(64, return_sequences=False),\n",
    "    Dropout(0.5),\n",
    "    Dense(1, activation='sigmoid')\n",
    "])\n",
    "model.compile(optimizer=Adam(learning_rate=0.001), loss='binary_crossentropy', metrics=['accuracy'])\n",
    "\n",
    "# Train model\n",
    "print(\"Training model...\")\n",
    "model.fit(X_train, y_train, epochs=3, batch_size=64, validation_split=0.2, verbose=1)\n",
    "\n",
    "# Evaluate\n",
    "print(\"\\nEvaluating model...\")\n",
    "test_loss, test_acc = model.evaluate(X_test, y_test, verbose=0)\n",
    "print(f\"Test Accuracy: {test_acc:.4f}\")\n",
    "\n",
    "# Sample prediction\n",
    "sample_pred = model.predict(X_test[:5], verbose=0)\n",
    "print(\"\\nSample Predictions (0=neg, 1=pos):\")\n",
    "print((sample_pred > 0.5).astype(int).flatten())\n",
    "print(\"Actual Labels:\", y_test[:5])"
   ]
  },
  {
   "cell_type": "code",
   "execution_count": null,
   "id": "72aa8bc9-77a3-45b6-8966-440de78da338",
   "metadata": {},
   "outputs": [],
   "source": []
  }
 ],
 "metadata": {
  "kernelspec": {
   "display_name": "Python 3 (ipykernel)",
   "language": "python",
   "name": "python3"
  },
  "language_info": {
   "codemirror_mode": {
    "name": "ipython",
    "version": 3
   },
   "file_extension": ".py",
   "mimetype": "text/x-python",
   "name": "python",
   "nbconvert_exporter": "python",
   "pygments_lexer": "ipython3",
   "version": "3.11.10"
  }
 },
 "nbformat": 4,
 "nbformat_minor": 5
}
