{
 "cells": [
  {
   "cell_type": "code",
   "execution_count": null,
   "id": "a4bb41ee-e360-4282-b743-800b61e99d8f",
   "metadata": {},
   "outputs": [],
   "source": []
  }
 ],
 "metadata": {
  "kernelspec": {
   "display_name": "Python 3 (ipykernel)",
   "language": "python",
   "name": "python3"
  },
  "language_info": {
   "name": ""
  }
 },
 "nbformat": 4,
 "nbformat_minor": 5
}
